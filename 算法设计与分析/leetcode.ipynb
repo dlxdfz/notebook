{
 "cells": [
  {
   "cell_type": "code",
   "execution_count": 1,
   "metadata": {
    "collapsed": true
   },
   "outputs": [],
   "source": [
    "#输入算术表达式，表达成后缀表达式，然后计算结果\n",
    "ops_rule = {\n",
    "    '+': 1,\n",
    "    '-': 1,\n",
    "    '*': 2,\n",
    "    '/': 2\n",
    "}\n",
    "\n",
    "def middle_to_after(s):\n",
    "    expression = []\n",
    "    ops = []\n",
    "    ss = s.split(' ')\n",
    "    for item in ss:\n",
    "        if item in ['+', '-', '*', '/']:\n",
    "            while len(ops) >= 0:\n",
    "                if len(ops) == 0:\n",
    "                    ops.append(item)\n",
    "                    break\n",
    "                op = ops.pop()\n",
    "                if op == '(' or ops_rule[item] > ops_rule[op]:\n",
    "                    ops.append(op)\n",
    "                    ops.append(item)\n",
    "                    break\n",
    "                else:\n",
    "                    expression.append(op)\n",
    "        elif item == '(':\n",
    "            ops.append(item)\n",
    "        elif item == ')':\n",
    "            while len(ops) > 0:\n",
    "                op = ops.pop()\n",
    "                if op == '(':\n",
    "                    break\n",
    "                else:\n",
    "                    expression.append(op)\n",
    "        else:\n",
    "            expression.append(item)\n",
    "\n",
    "    while len(ops) > 0:\n",
    "        expression.append(ops.pop())\n",
    "\n",
    "    return expression"
   ]
  },
  {
   "cell_type": "code",
   "execution_count": 3,
   "metadata": {},
   "outputs": [
    {
     "data": {
      "text/plain": [
       "['9', '3', '1', '-', '3', '*', '+', '10', '2）', '/', '+']"
      ]
     },
     "execution_count": 3,
     "metadata": {},
     "output_type": "execute_result"
    }
   ],
   "source": [
    "s = \"9 + ( 3 - 1 ) * 3 + 10 / 2 ）\"\n",
    "middle_to_after(s)"
   ]
  },
  {
   "cell_type": "code",
   "execution_count": 14,
   "metadata": {},
   "outputs": [],
   "source": [
    "ops_rule = {\n",
    "    '+':1,\n",
    "    '-':1,\n",
    "    '*':2,\n",
    "    '/':2\n",
    "}\n",
    "def mid_to_after(s):\n",
    "    items = s.split(' ')\n",
    "    expression = []\n",
    "    stack = []\n",
    "    for item in items:\n",
    "        if item in ['+','-','*','/']:\n",
    "            if stack==[]:\n",
    "                stack.append(item)\n",
    "            else:\n",
    "                ops = stack.pop()\n",
    "                #ruguo zhanding youxianji dayu dengyu dangqian youxianji tanchu \n",
    "                if ops != '(' and ops_rule[ops]>=ops_rule[item]:\n",
    "                    expression.append(ops)\n",
    "                else:\n",
    "                    stack.append(ops)\n",
    "                    stack.append(item)\n",
    "        elif item == '(':\n",
    "            stack.append(item)\n",
    "        elif item == ')':\n",
    "            while stack != []:\n",
    "                ops = stack.pop()\n",
    "                if ops != '(':\n",
    "                    expression.append(ops)\n",
    "                else:\n",
    "                    break\n",
    "        else:\n",
    "            expression.append(item)\n",
    "    while stack!=[]:\n",
    "        expression.append(stack.pop())\n",
    "    return expression"
   ]
  },
  {
   "cell_type": "code",
   "execution_count": 15,
   "metadata": {},
   "outputs": [
    {
     "data": {
      "text/plain": [
       "['9', '3', '1', '-', '3', '*', '10', '2', '/', '+']"
      ]
     },
     "execution_count": 15,
     "metadata": {},
     "output_type": "execute_result"
    }
   ],
   "source": [
    "s = \"9 + ( 3 - 1 ) * 3 + 10 / 2\"\n",
    "mid_to_after(s)"
   ]
  },
  {
   "cell_type": "code",
   "execution_count": 20,
   "metadata": {
    "collapsed": true
   },
   "outputs": [],
   "source": [
    "def exp_to_val(s):\n",
    "    stack = []\n",
    "    for item in s:\n",
    "        if item in ['+', '-', '*','/']:\n",
    "            num2 = stack.pop()\n",
    "            num1 = stack.pop()\n",
    "            if item == '+':\n",
    "                stack.append(num1+num2)\n",
    "            if item == '-':\n",
    "                stack.append(num1-num2)\n",
    "            if item == '*':\n",
    "                stack.append(num1*num2)\n",
    "            if item == '/':\n",
    "                stack.append(num1/num2)\n",
    "        else:\n",
    "            stack.append(int(item))\n",
    "        print(stack)\n",
    "    return stack.pop()"
   ]
  },
  {
   "cell_type": "code",
   "execution_count": 21,
   "metadata": {},
   "outputs": [
    {
     "name": "stdout",
     "output_type": "stream",
     "text": [
      "[9]\n",
      "[9, 3]\n",
      "[9, 3, 1]\n",
      "[9, 2]\n",
      "[9, 2, 3]\n",
      "[9, 6]\n",
      "[9, 6, 10]\n",
      "[9, 6, 10, 2]\n",
      "[9, 6, 5.0]\n",
      "[9, 11.0]\n"
     ]
    },
    {
     "data": {
      "text/plain": [
       "11.0"
      ]
     },
     "execution_count": 21,
     "metadata": {},
     "output_type": "execute_result"
    }
   ],
   "source": [
    "exp_to_val(mid_to_after(s))"
   ]
  },
  {
   "cell_type": "code",
   "execution_count": 23,
   "metadata": {},
   "outputs": [
    {
     "name": "stdout",
     "output_type": "stream",
     "text": [
      "6 0\n",
      "6 0\n"
     ]
    }
   ],
   "source": [
    "import sys\n",
    "if __name__ == \"__main__\":\n",
    "    # 读取第一行的n\n",
    "    n = 3\n",
    "    clock = [[5,0], [6,0], [7,0]]\n",
    "    x=59\n",
    "    A = 6\n",
    "    B = 59\n",
    "    a = x//60\n",
    "    b = x%60\n",
    "    if B>=b:\n",
    "        A -= a\n",
    "        B -= b\n",
    "    else:\n",
    "        A -= (a+1)\n",
    "        B += (60-b)\n",
    "    start = 0\n",
    "    end = n-1\n",
    "    while end>start:\n",
    "        mid = (end+start)//2\n",
    "        a, b = clock[mid]\n",
    "        if a<A:\n",
    "            start = mid+1\n",
    "        elif a==A:\n",
    "            if b<B:\n",
    "                start = mid+1\n",
    "            elif b==B:\n",
    "                print(a,b)\n",
    "                break\n",
    "            else:\n",
    "                end = mid-1\n",
    "        else:\n",
    "            end = mid-1\n",
    "    print(a, b)"
   ]
  },
  {
   "cell_type": "code",
   "execution_count": 24,
   "metadata": {
    "collapsed": true
   },
   "outputs": [],
   "source": [
    "import itertools"
   ]
  },
  {
   "cell_type": "code",
   "execution_count": 38,
   "metadata": {
    "collapsed": true
   },
   "outputs": [],
   "source": [
    "x = itertools.combinations([1,3,2],2)"
   ]
  },
  {
   "cell_type": "code",
   "execution_count": 39,
   "metadata": {},
   "outputs": [
    {
     "name": "stdout",
     "output_type": "stream",
     "text": [
      "4\n",
      "3\n",
      "5\n"
     ]
    }
   ],
   "source": [
    "for i in x:\n",
    "    print(sum(i))"
   ]
  },
  {
   "cell_type": "code",
   "execution_count": 47,
   "metadata": {},
   "outputs": [
    {
     "name": "stdout",
     "output_type": "stream",
     "text": [
      "8\n"
     ]
    }
   ],
   "source": [
    "import sys\n",
    "import itertools\n",
    "if __name__ == \"__main__\":\n",
    "    # 读取第一行的n\n",
    "    # n,w = list(map(int, line.split()))\n",
    "    n = 3\n",
    "    w = 10\n",
    "    # line = sys.stdin.readline().strip()\n",
    "    v = [1,2,4]\n",
    "    num = 1\n",
    "    for i in range(1, n+1):\n",
    "            x = itertools.combinations(v,i)\n",
    "            for j in x:\n",
    "                if sum(j)<=w:\n",
    "                    num+=1\n",
    "                    \n",
    "    print(num)"
   ]
  }
 ],
 "metadata": {
  "kernelspec": {
   "display_name": "Python 3",
   "language": "python",
   "name": "python3"
  },
  "language_info": {
   "codemirror_mode": {
    "name": "ipython",
    "version": 3
   },
   "file_extension": ".py",
   "mimetype": "text/x-python",
   "name": "python",
   "nbconvert_exporter": "python",
   "pygments_lexer": "ipython3",
   "version": "3.6.3"
  },
  "toc": {
   "nav_menu": {},
   "number_sections": true,
   "sideBar": true,
   "skip_h1_title": false,
   "title_cell": "Table of Contents",
   "title_sidebar": "Contents",
   "toc_cell": false,
   "toc_position": {},
   "toc_section_display": true,
   "toc_window_display": false
  }
 },
 "nbformat": 4,
 "nbformat_minor": 2
}
