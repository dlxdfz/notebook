{
 "cells": [
  {
   "cell_type": "code",
   "execution_count": 52,
   "metadata": {
    "collapsed": true
   },
   "outputs": [],
   "source": [
    "def quicksort(A, s, e):\n",
    "    if A==[]:\n",
    "        return \n",
    "    if s>=e:\n",
    "        return \n",
    "    index = partition(A, s, e)\n",
    "    quicksort(A, s, index-1)\n",
    "    quicksort(A, index+1, e)\n",
    "\n",
    "def partition(A, s, e):\n",
    "    key = A[s]\n",
    "    while e>s:\n",
    "        while e>s and A[e]>key:\n",
    "            e -= 1\n",
    "        A[s] = A[e]\n",
    "        while e>s and A[s]<=key:\n",
    "            s += 1\n",
    "        A[e] = A[s]\n",
    "    A[s] = key\n",
    "    return e"
   ]
  },
  {
   "cell_type": "code",
   "execution_count": 53,
   "metadata": {
    "scrolled": false
   },
   "outputs": [
    {
     "name": "stdout",
     "output_type": "stream",
     "text": [
      "[2, 3, 3, 5, 5]\n"
     ]
    }
   ],
   "source": [
    "A = [3,2,5,3,5]\n",
    "quicksort(A,0,len(A)-1)\n",
    "print(A)"
   ]
  },
  {
   "cell_type": "code",
   "execution_count": 60,
   "metadata": {
    "collapsed": true
   },
   "outputs": [],
   "source": [
    "def quicksort3(A, s, e):\n",
    "    if A==[]:\n",
    "        return \n",
    "    if s>=e:\n",
    "        return \n",
    "    small, large = partition3(A, s, e)\n",
    "    quicksort3(A, s, small)\n",
    "    quicksort3(A, large, e)\n",
    "    \n",
    "def partition3(A, s, e):\n",
    "    key = A[s]\n",
    "    i = s+1\n",
    "    small = s-1\n",
    "    large = e+1\n",
    "    while i<large:\n",
    "        if A[i]==key:\n",
    "            i += 1\n",
    "        elif A[i]<key:\n",
    "            A[small+1], A[i] = A[i], A[small+1]\n",
    "            small += 1\n",
    "        else:\n",
    "            A[large-1], A[i] = A[i], A[large-1]\n",
    "            large -= 1\n",
    "    return small, large"
   ]
  },
  {
   "cell_type": "code",
   "execution_count": 61,
   "metadata": {},
   "outputs": [
    {
     "name": "stdout",
     "output_type": "stream",
     "text": [
      "[2, 3, 3, 5, 5]\n"
     ]
    }
   ],
   "source": [
    "A = [3,2,5,3,5]\n",
    "quicksort3(A,0,len(A)-1)\n",
    "print(A)"
   ]
  },
  {
   "cell_type": "code",
   "execution_count": 70,
   "metadata": {},
   "outputs": [
    {
     "name": "stdout",
     "output_type": "stream",
     "text": [
      "[0, 11, 1, 10, 2, 9, 3, 8, 4, 7, 5, 6]\n",
      "[0, 1, 2, 3, 4, 5, 6, 7, 8, 9, 10, 11]\n"
     ]
    }
   ],
   "source": [
    "class Node():\n",
    "\tdef __init__(self, val=0):\n",
    "\t\tself.val = val\n",
    "\t\tself.next = None\n",
    "\n",
    "\tdef createList(self, N):\n",
    "\t\tif not N:\n",
    "\t\t\treturn createList(10)\n",
    "\t\telse:\n",
    "\t\t\thead = Node(N[0])\n",
    "\t\t\ttemp = head\n",
    "\t\t\tfor i in N[1:]:\n",
    "\t\t\t\ttemp.next = Node(i)\n",
    "\t\t\t\ttemp = temp.next\n",
    "\t\t\treturn head\n",
    "\n",
    "\tdef visit(self):\n",
    "\t\ttemp = self\n",
    "\t\tresult = []\n",
    "\t\twhile temp:\n",
    "\t\t\tresult.append(temp.val)\n",
    "\t\t\ttemp = temp.next\n",
    "\t\tif result == []:\n",
    "\t\t\tprint('空链表')\n",
    "\t\telse:\n",
    "\t\t\tprint(result)\n",
    "\n",
    "\tdef find_mid_node(self):\n",
    "\t\t#1->2           返回指向2的指针\n",
    "\t\t#1->2->3        返回指向3的指针\n",
    "\t\t#1->2->3->4\t\t返回指向3的指针\n",
    "\t\t#1->2->3->4->5\t返回指向4的指针\n",
    "\t\t#链表前半部分不少于后半部分\n",
    "\t\tif not self or not self.next:\n",
    "\t\t\treturn self\n",
    "\n",
    "\t\tslow = self\n",
    "\t\tfast = self.next\n",
    "\t\twhile fast and fast.next:\n",
    "\t\t\tslow = slow.next\n",
    "\t\t\tfast = fast.next.next\n",
    "\t\tret = slow.next\n",
    "\t\tslow.next = None\n",
    "\t\treturn ret\n",
    "\n",
    "\tdef reverse(self):\n",
    "\t\tif not self or not self.next:\n",
    "\t\t\treturn self\n",
    "\n",
    "\t\thead = self\n",
    "\t\tcur = head.next\n",
    "\t\thead.next = None\n",
    "\t\twhile cur:\n",
    "\t\t\ttemp = cur.next\n",
    "\t\t\tcur.next = head\n",
    "\t\t\thead = cur\n",
    "\t\t\tcur = temp\n",
    "\t\t#self = head\n",
    "\t\treturn head\n",
    "\n",
    "\tdef merge(self, head):\n",
    "\t\t#一般self链表长度比head要长\n",
    "\t\tif not head or not self:\n",
    "\t\t\treturn self\n",
    "\t\t\n",
    "\t\tret = self\n",
    "\t\tcur1 = ret\n",
    "\t\tcur2 = head\n",
    "\t\twhile cur2:\n",
    "\t\t\tcur1_next = cur1.next\n",
    "\t\t\tcur1.next = cur2\n",
    "\t\t\tcur1 = cur1_next\n",
    "\t\t\tif cur1 is None:\n",
    "\t\t\t\tbreak\n",
    "\n",
    "\t\t\tcur2_next = cur2.next\n",
    "\t\t\tcur2.next = cur1\n",
    "\t\t\tcur2 = cur2_next\n",
    "\t\t\tif cur2 is None:\n",
    "\t\t\t\tbreak\n",
    "\t\tself = ret\n",
    "\n",
    "\tdef mergeSort(self):\n",
    "\t\tif not self or not self.next:\n",
    "\t\t\treturn self\n",
    "\t\thead1 = self.find_mid_node()\n",
    "\t\t#self.visit()\n",
    "\t\t#head1.visit()\n",
    "\t\treturn self.mergeSorted(self.mergeSort(), head1.mergeSort())\n",
    "\n",
    "\tdef mergeSorted(self, l1, l2):\n",
    "\t\t#l1.visit()\n",
    "\t\t#l2.visit()\n",
    "\t\tif l1.val <= l2.val:\n",
    "\t\t\tret = l1\n",
    "\t\t\tl1 = l1.next\n",
    "\t\telse:\n",
    "\t\t\tret = l2\n",
    "\t\t\tl2 = l2.next\n",
    "\n",
    "\t\thead = ret\n",
    "\t\tcur1 = l1\n",
    "\t\tcur2 = l2\n",
    "\t\twhile cur1:\n",
    "\t\t\tif cur2:\n",
    "\t\t\t\tif cur1.val<=cur2.val:\n",
    "\t\t\t\t\thead.next = cur1\n",
    "\t\t\t\t\thead = head.next\n",
    "\t\t\t\t\tcur1 = cur1.next\n",
    "\t\t\t\telse:\n",
    "\t\t\t\t\thead.next = cur2\n",
    "\t\t\t\t\thead = head.next\n",
    "\t\t\t\t\tcur2 = cur2.next\n",
    "\t\t\telse:\n",
    "\t\t\t\thead.next = cur1\n",
    "\t\t\t\thead = head.next\n",
    "\t\t\t\tcur1 = cur1.next\n",
    "\t\twhile cur2:\n",
    "\t\t\thead.next = cur2\n",
    "\t\t\thead = head.next\n",
    "\t\t\tcur2 = cur2.next\n",
    "\t\t#ret.visit()\n",
    "\t\treturn ret\n",
    "\n",
    "class Solution150:\n",
    "    def evalRPN(self, tokens):\n",
    "        \"\"\"\n",
    "        :type tokens: List[str]\n",
    "        :rtype: int\n",
    "        \"\"\"\n",
    "        stack = []\n",
    "        for i in tokens:\n",
    "            if i != '+' and i != '-' and i != '*' and i != '/':\n",
    "                stack.append(int(i))\n",
    "            else:\n",
    "                b = stack.pop()\n",
    "                a = stack.pop()\n",
    "                if i == '+':\n",
    "                    a = a+b\n",
    "                elif i == '-':\n",
    "                    a = a-b\n",
    "                elif i == '*':\n",
    "                    a = a*b\n",
    "                else:\n",
    "                    int(a/b)\n",
    "                print(a)\n",
    "                stack.append(a)\n",
    "        return stack.pop()\n",
    "\n",
    "class Solution20:\n",
    "    def isValid(self, s):\n",
    "        \"\"\"\n",
    "        :type s: str\n",
    "        :rtype: bool\n",
    "        \"\"\"\n",
    "        stack = []\n",
    "        for i in s:\n",
    "            if i=='(':\n",
    "                stack.append(')')\n",
    "            elif i=='[':\n",
    "                stack.append(']')\n",
    "            elif i=='{':\n",
    "                stack.append('}')\n",
    "            elif i==')' or i==']' or i== '}':\n",
    "                if stack == []:\n",
    "                    return False\n",
    "                elif stack.pop() != i:\n",
    "                    return False\n",
    "                \n",
    "        if stack != []:\n",
    "            return False \n",
    "        \n",
    "        return True\n",
    "\n",
    "if __name__ == '__main__':\n",
    "\t#链表快慢指针、链表翻转、链表合并、寻找倒数第多少个节点\n",
    "\tnode = Node()\n",
    "\thead1 = node.createList([i for i in range(12)])\n",
    "\thead2 = head1.find_mid_node()\n",
    "\thead2 = head2.reverse()\n",
    "\thead1.merge(head2)\n",
    "\thead1.visit()\n",
    "\t#链表归并排序\n",
    "\thead1.mergeSort()\n",
    "\thead1.visit()\n"
   ]
  },
  {
   "cell_type": "code",
   "execution_count": 72,
   "metadata": {},
   "outputs": [],
   "source": [
    "node = Node()\n",
    "head1 = node.createList([i for i in range(12)])"
   ]
  },
  {
   "cell_type": "code",
   "execution_count": 74,
   "metadata": {},
   "outputs": [],
   "source": [
    "class Node():\n",
    "    def __init__(self, val):\n",
    "        self.val = val\n",
    "        self.next = None"
   ]
  },
  {
   "cell_type": "code",
   "execution_count": 78,
   "metadata": {
    "collapsed": true
   },
   "outputs": [],
   "source": [
    "head = Node(0)\n",
    "temp = head\n",
    "for i in range(1, 10):\n",
    "    temp.next = Node(i)\n",
    "    temp = temp.next"
   ]
  },
  {
   "cell_type": "code",
   "execution_count": 79,
   "metadata": {},
   "outputs": [
    {
     "name": "stdout",
     "output_type": "stream",
     "text": [
      "0\n",
      "1\n",
      "2\n",
      "3\n",
      "4\n",
      "5\n",
      "6\n",
      "7\n",
      "8\n",
      "9\n"
     ]
    }
   ],
   "source": [
    "temp = head\n",
    "while temp is not None:\n",
    "    print(temp.val)\n",
    "    temp = temp.next"
   ]
  },
  {
   "cell_type": "code",
   "execution_count": 80,
   "metadata": {
    "collapsed": true
   },
   "outputs": [],
   "source": [
    "def inverse(p):\n",
    "    if p is None:\n",
    "        return p\n",
    "    cur = p.next\n",
    "    p.next = None\n",
    "    while cur:\n",
    "        temp = cur.next\n",
    "        cur.next = p\n",
    "        p = cur\n",
    "        cur = temp\n",
    "    return p\n",
    "head = Node(0)\n",
    "temp = head\n",
    "for i in range(1, 10):\n",
    "    temp.next = Node(i)\n",
    "    temp = temp.next\n",
    "head = inverse(head)"
   ]
  },
  {
   "cell_type": "code",
   "execution_count": 81,
   "metadata": {},
   "outputs": [
    {
     "name": "stdout",
     "output_type": "stream",
     "text": [
      "9\n",
      "8\n",
      "7\n",
      "6\n",
      "5\n",
      "4\n",
      "3\n",
      "2\n",
      "1\n",
      "0\n"
     ]
    }
   ],
   "source": [
    "temp = head\n",
    "while temp is not None:\n",
    "    print(temp.val)\n",
    "    temp = temp.next"
   ]
  }
 ],
 "metadata": {
  "kernelspec": {
   "display_name": "Python 3",
   "language": "python",
   "name": "python3"
  },
  "language_info": {
   "codemirror_mode": {
    "name": "ipython",
    "version": 3
   },
   "file_extension": ".py",
   "mimetype": "text/x-python",
   "name": "python",
   "nbconvert_exporter": "python",
   "pygments_lexer": "ipython3",
   "version": "3.6.3"
  },
  "toc": {
   "nav_menu": {},
   "number_sections": true,
   "sideBar": true,
   "skip_h1_title": false,
   "title_cell": "Table of Contents",
   "title_sidebar": "Contents",
   "toc_cell": false,
   "toc_position": {},
   "toc_section_display": true,
   "toc_window_display": false
  }
 },
 "nbformat": 4,
 "nbformat_minor": 2
}
