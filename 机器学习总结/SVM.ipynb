{
 "cells": [
  {
   "cell_type": "markdown",
   "metadata": {},
   "source": [
    "# SVM"
   ]
  },
  {
   "cell_type": "code",
   "execution_count": 7,
   "metadata": {
    "collapsed": true
   },
   "outputs": [],
   "source": [
    "% matplotlib inline\n",
    "import sklearn\n",
    "import numpy as np\n",
    "import matplotlib.pyplot as plt"
   ]
  },
  {
   "cell_type": "code",
   "execution_count": 31,
   "metadata": {
    "collapsed": true
   },
   "outputs": [],
   "source": [
    "# 数据生成\n",
    "def initData():\n",
    "    noise = np.random.randn(100, 2)#服从标准正态分布\n",
    "    x = np.array([i for i in range(100)])*0.1\n",
    "    y = 0.5*x + 3\n",
    "    return noise, x, y\n",
    "\n",
    "def initCircle(a = 0, b = 0, r = 5):\n",
    "    theta = np.arange(0, np.pi*2, 0.1)\n",
    "    #noise = np.random.randn(theta.shape[0], 2)\n",
    "    x = a + r * np.cos(theta)\n",
    "    y = b + r * np.sin(theta)\n",
    "    return x, y"
   ]
  },
  {
   "cell_type": "code",
   "execution_count": 68,
   "metadata": {},
   "outputs": [
    {
     "data": {
      "image/png": "[encoded data removed]",
      "text/plain": [
       "<matplotlib.figure.Figure at 0x7fde10bc4048>"
      ]
     },
     "metadata": {},
     "output_type": "display_data"
    }
   ],
   "source": [
    "x1,y1 = initCircle()\n",
    "x1.reshape(x1.shape[0], 1)\n",
    "y1.reshape(y1.shape[0], 1)\n",
    "plt.plot(x1,y1,'*')\n",
    "x2,y2 = initCircle(r=2.5)\n",
    "x2.reshape(x2.shape[0], 1)\n",
    "y2.reshape(y2.shape[0], 1)\n",
    "plt.plot(x2,y2,'r*')\n",
    "plt.show()"
   ]
  },
  {
   "cell_type": "code",
   "execution_count": 105,
   "metadata": {
    "collapsed": true
   },
   "outputs": [],
   "source": [
    "#numpy数组连接太恶心了，初始化一行的维数竟然是(126,)的形式，需要转换到(126,1)才能连接\n",
    "X1 = np.vstack((x1,y1)).T\n",
    "X2 = np.vstack((x2,y2)).T\n",
    "X = np.vstack((X1,X2))\n",
    "Y = np.hstack((np.ones(x1.shape), np.ones(x2.shape)*-1))\n",
    "Y = Y.reshape((Y.shape[0],1))\n",
    "#打乱顺序\n",
    "shuffle = np.hstack((X,Y))\n",
    "np.random.shuffle(shuffle)\n",
    "X = shuffle[:,0:1]\n",
    "Y = shuffle[:,2]"
   ]
  },
  {
   "cell_type": "code",
   "execution_count": 35,
   "metadata": {
    "collapsed": true
   },
   "outputs": [],
   "source": [
    "from sklearn import svm"
   ]
  },
  {
   "cell_type": "code",
   "execution_count": 36,
   "metadata": {
    "collapsed": true
   },
   "outputs": [],
   "source": [
    "clf = svm.SVC()"
   ]
  },
  {
   "cell_type": "code",
   "execution_count": 107,
   "metadata": {},
   "outputs": [
    {
     "data": {
      "text/plain": [
       "SVC(C=1.0, cache_size=200, class_weight=None, coef0=0.0,\n",
       "  decision_function_shape='ovr', degree=3, gamma='auto', kernel='rbf',\n",
       "  max_iter=-1, probability=False, random_state=None, shrinking=True,\n",
       "  tol=0.001, verbose=False)"
      ]
     },
     "execution_count": 107,
     "metadata": {},
     "output_type": "execute_result"
    }
   ],
   "source": [
    "clf.fit(X, Y)"
   ]
  },
  {
   "cell_type": "code",
   "execution_count": 109,
   "metadata": {},
   "outputs": [
    {
     "data": {
      "text/plain": [
       "array([-0.85611625, -1.14974738,  1.04539591, -1.1486878 , -1.13443149,\n",
       "       -0.81349184,  1.0410732 , -0.84371562, -0.92882611, -0.9865158 ,\n",
       "       -0.98828036,  1.09649447,  1.04307663, -0.84649176,  1.22192709,\n",
       "       -0.99647307, -0.98179003, -0.99893764, -1.13085373,  1.00011126,\n",
       "       -1.0317988 ,  1.01709545, -0.99054977, -1.13371907, -1.0847516 ,\n",
       "       -0.76523696, -1.01433616, -0.91513903, -1.06496805, -1.00049887,\n",
       "       -0.99980247, -0.99976139, -1.07973595, -1.08934256, -0.99014593,\n",
       "        1.01297761, -1.00016184, -1.00028969,  1.28425711,  1.02866917,\n",
       "       -1.09837926, -1.05420569,  1.03150049,  1.30662773,  1.26457464,\n",
       "       -0.81004965, -0.40304271, -0.99974095, -1.12667337, -1.1269534 ,\n",
       "       -0.99888109,  1.02614306,  1.05708757,  1.05302575,  1.0011492 ,\n",
       "       -1.01055732, -0.9951735 , -0.99932303, -1.11536237, -1.00319249,\n",
       "       -0.9999496 , -1.00016702,  1.14641965, -1.12638544, -0.99384594,\n",
       "       -1.00054353, -0.22345241, -0.82917364,  1.03357182, -1.00025865,\n",
       "       -0.90825779, -1.0074362 ,  1.07563653,  0.94123438,  0.03715047,\n",
       "       -1.04010632, -1.10791765, -0.9998089 ,  0.66335315, -1.13066046,\n",
       "       -0.8818787 , -1.00179545,  1.20093526, -1.07393777, -0.97880912,\n",
       "        1.27697648, -0.99983002, -0.99336275,  0.81102731, -0.99881463,\n",
       "       -0.85007334, -1.0033806 ,  1.30176287, -0.97862904, -1.0001774 ,\n",
       "       -0.97990727, -1.00001466, -0.9996408 , -0.99823353, -0.98849018,\n",
       "        1.1096993 , -1.00031315,  1.00586855,  1.00416162,  1.00011173,\n",
       "        1.03922862, -1.00043526, -1.06082232,  1.0398429 ,  1.01964511,\n",
       "        1.06744582,  1.28611868,  1.01047489, -1.13051458,  0.21478925,\n",
       "       -1.03912283, -0.97556429, -1.07851808, -1.02743357, -0.99971805,\n",
       "       -1.00001464, -1.09344878, -1.12375243, -0.89633444,  1.16736556,\n",
       "       -0.9841233 ])"
      ]
     },
     "execution_count": 109,
     "metadata": {},
     "output_type": "execute_result"
    }
   ],
   "source": [
    "clf.decision_function(X)"
   ]
  },
  {
   "cell_type": "markdown",
   "metadata": {},
   "source": [
    "# SVC分类"
   ]
  },
  {
   "cell_type": "code",
   "execution_count": 1,
   "metadata": {
    "collapsed": true
   },
   "outputs": [],
   "source": [
    "#导入svm和数据集\n",
    "from sklearn import svm,datasets"
   ]
  },
  {
   "cell_type": "code",
   "execution_count": 2,
   "metadata": {},
   "outputs": [
    {
     "data": {
      "text/plain": [
       "SVC(C=1.0, cache_size=200, class_weight=None, coef0=0.0,\n",
       "  decision_function_shape='ovr', degree=3, gamma='auto', kernel='rbf',\n",
       "  max_iter=-1, probability=False, random_state=None, shrinking=True,\n",
       "  tol=0.001, verbose=False)"
      ]
     },
     "execution_count": 2,
     "metadata": {},
     "output_type": "execute_result"
    }
   ],
   "source": [
    "#调用SVC()\n",
    "clf = svm.SVC()\n",
    "#载入鸢尾花数据集\n",
    "iris = datasets.load_iris()\n",
    "X = iris.data\n",
    "y = iris.target\n",
    "#fit()训练\n",
    "clf.fit(X,y)"
   ]
  },
  {
   "cell_type": "code",
   "execution_count": 4,
   "metadata": {},
   "outputs": [
    {
     "name": "stdout",
     "output_type": "stream",
     "text": [
      "[0 0 0 0 0]\n",
      "[0 0 0 0 0]\n",
      "[2]\n"
     ]
    }
   ],
   "source": [
    "#predict()预测\n",
    "pre_y = clf.predict(X[5:10])\n",
    "print(pre_y)\n",
    "print(y[5:10])\n",
    "#导入numpy\n",
    "import numpy as np\n",
    "test = np.array([[5.1,2.9,1.8,3.6]])\n",
    "#对test进行预测\n",
    "test_y = clf.predict(test)\n",
    "print(test_y)"
   ]
  },
  {
   "cell_type": "code",
   "execution_count": 7,
   "metadata": {},
   "outputs": [
    {
     "data": {
      "text/plain": [
       "(150, 4)"
      ]
     },
     "execution_count": 7,
     "metadata": {},
     "output_type": "execute_result"
    }
   ],
   "source": [
    "from sklearn import metrics"
   ]
  },
  {
   "cell_type": "code",
   "execution_count": 128,
   "metadata": {},
   "outputs": [],
   "source": [
    "x, y = np.mgrid[1:10:10j, 1:2]"
   ]
  },
  {
   "cell_type": "code",
   "execution_count": null,
   "metadata": {
    "collapsed": true
   },
   "outputs": [],
   "source": [
    "x."
   ]
  },
  {
   "cell_type": "markdown",
   "metadata": {},
   "source": [
    "# 连接"
   ]
  },
  {
   "cell_type": "markdown",
   "metadata": {},
   "source": [
    "[目标函数总结](https://blog.csdn.net/lyb3b3b/article/details/76962651)"
   ]
  }
 ],
 "metadata": {
  "kernelspec": {
   "display_name": "Python 3",
   "language": "python",
   "name": "python3"
  },
  "language_info": {
   "codemirror_mode": {
    "name": "ipython",
    "version": 3
   },
   "file_extension": ".py",
   "mimetype": "text/x-python",
   "name": "python",
   "nbconvert_exporter": "python",
   "pygments_lexer": "ipython3",
   "version": "3.6.3"
  },
  "toc": {
   "nav_menu": {},
   "number_sections": true,
   "sideBar": true,
   "skip_h1_title": false,
   "title_cell": "Table of Contents",
   "title_sidebar": "Contents",
   "toc_cell": false,
   "toc_position": {
    "height": "calc(100% - 180px)",
    "left": "10px",
    "top": "150px",
    "width": "243px"
   },
   "toc_section_display": true,
   "toc_window_display": true
  }
 },
 "nbformat": 4,
 "nbformat_minor": 2
}
