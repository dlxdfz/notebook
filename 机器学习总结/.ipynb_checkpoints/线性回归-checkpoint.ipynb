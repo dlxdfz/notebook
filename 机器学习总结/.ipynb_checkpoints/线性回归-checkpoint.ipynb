{
 "cells": [
  {
   "cell_type": "markdown",
   "metadata": {},
   "source": [
    "# 最小二乘法"
   ]
  },
  {
   "cell_type": "markdown",
   "metadata": {},
   "source": [
    "## 解析法"
   ]
  },
  {
   "cell_type": "code",
   "execution_count": 2,
   "metadata": {},
   "outputs": [],
   "source": [
    "% matplotlib inline\n",
    "import numpy as py\n",
    "# 生成数据，生成一条直线，并添加高斯噪声\n",
    "# 用生成的数据进行分析"
   ]
  },
  {
   "cell_type": "markdown",
   "metadata": {},
   "source": [
    "# 最小二乘法(LSM) VS 极大似然估计(MLE)"
   ]
  },
  {
   "cell_type": "markdown",
   "metadata": {},
   "source": [
    "[LSM vs MLE](https://www.cnblogs.com/monoSLAM/p/5257589.html)"
   ]
  },
  {
   "cell_type": "markdown",
   "metadata": {},
   "source": [
    "## MLE"
   ]
  },
  {
   "cell_type": "markdown",
   "metadata": {},
   "source": [
    "- 无监督：通常用于已知观察值X，和某分布$G(\\theta)$，比如高斯分布，做参数估计\n",
    "- 有监督：二分类逻辑回归参数估计(李航书上，P79），个人感觉用LSM(NG,第六章)比较容易理解\n",
    "- 无监督：高斯混合模型(EM,期望极大化算法，先求期望，再极大化期望)"
   ]
  },
  {
   "cell_type": "markdown",
   "metadata": {},
   "source": [
    "在已有的观察X下，若假设X服从某分布$G(\\theta)$，那么可以使用极大似然估计来估计参数$\\theta$，使得$P(X|\\theta)$极大;比如当$X ～ N(\\mu, \\delta^2)$时，可以写出X的对数似然函数$L(\\theta)=\\sum lnP(xi|\\theta)$。然后通过对参数求导等于0，求得极大似然估计参数值，如果$X ～ N(\\mu, \\delta^2)$时，可以得到参数估计形式："
   ]
  },
  {
   "attachments": {
    "image.png": {
     "image/png": "[encoded data removed]"
    }
   },
   "cell_type": "markdown",
   "metadata": {},
   "source": [
    "![image.png](attachment:image.png)"
   ]
  },
  {
   "cell_type": "markdown",
   "metadata": {},
   "source": [
    "这是有偏估计，无偏估计$\\sigma^2=\\frac{1}{n-1}\\sum_{i=1}^n(x_{i} - \\bar x)^2$"
   ]
  },
  {
   "cell_type": "markdown",
   "metadata": {},
   "source": [
    "## LSM"
   ]
  },
  {
   "cell_type": "markdown",
   "metadata": {},
   "source": [
    "- 通常出现在线性回归中。\n",
    "- 属于有监督学习"
   ]
  },
  {
   "cell_type": "markdown",
   "metadata": {},
   "source": [
    "$J(\\theta)=\\sum_{x=1}^{n}(\\theta*x_i-y_i)^2$,真实值和预测值相差值的平方和最小；通常可以使用求伪逆矩阵的方式求得解析解或者通过梯度下降法求得参数$\\theta$"
   ]
  },
  {
   "cell_type": "markdown",
   "metadata": {},
   "source": [
    "## 等价关系"
   ]
  },
  {
   "cell_type": "markdown",
   "metadata": {},
   "source": [
    "- 做线性回归时，如果噪声服从高斯分布，此时LSM可以由MLE推导，说明此时二者等价\n",
    "- Ridge回归可以用Gaussian分布和最大后验估计(MAP)解释  \n",
    "- LASSO回归可以用Lapace分布和最大后验估计(MAP)解释  \n",
    "[知乎](https://www.zhihu.com/question/20447622)"
   ]
  },
  {
   "cell_type": "markdown",
   "metadata": {},
   "source": [
    "# MLE vs MAP vs 贝叶斯估计"
   ]
  },
  {
   "cell_type": "markdown",
   "metadata": {},
   "source": [
    "MLE认为参数是确定未知的  \n",
    "贝叶斯认为参数是概率出现的  \n",
    "MAP是二者的折衷P(D)很难计算"
   ]
  },
  {
   "cell_type": "markdown",
   "metadata": {},
   "source": [
    "![image](image/MLE_MAP_Bayes.jpg)"
   ]
  },
  {
   "cell_type": "markdown",
   "metadata": {},
   "source": [
    "# 逻辑回归"
   ]
  },
  {
   "cell_type": "markdown",
   "metadata": {},
   "source": [
    "## 使用MLE推导"
   ]
  },
  {
   "cell_type": "markdown",
   "metadata": {},
   "source": [
    "![](image/逻辑回归MLE.jpeg)"
   ]
  },
  {
   "cell_type": "markdown",
   "metadata": {},
   "source": [
    "## 使用LSM推导"
   ]
  }
 ],
 "metadata": {
  "kernelspec": {
   "display_name": "Python 3",
   "language": "python",
   "name": "python3"
  },
  "language_info": {
   "codemirror_mode": {
    "name": "ipython",
    "version": 3
   },
   "file_extension": ".py",
   "mimetype": "text/x-python",
   "name": "python",
   "nbconvert_exporter": "python",
   "pygments_lexer": "ipython3",
   "version": "3.6.3"
  },
  "toc": {
   "nav_menu": {},
   "number_sections": true,
   "sideBar": true,
   "skip_h1_title": false,
   "title_cell": "Table of Contents",
   "title_sidebar": "Contents",
   "toc_cell": false,
   "toc_position": {
    "height": "calc(100% - 180px)",
    "left": "10px",
    "top": "150px",
    "width": "225px"
   },
   "toc_section_display": true,
   "toc_window_display": true
  }
 },
 "nbformat": 4,
 "nbformat_minor": 2
}
