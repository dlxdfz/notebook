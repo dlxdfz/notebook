{
 "cells": [
  {
   "cell_type": "code",
   "execution_count": 1,
   "metadata": {
    "collapsed": true
   },
   "outputs": [],
   "source": [
    "s = 'eeefgghhh'"
   ]
  },
  {
   "cell_type": "code",
   "execution_count": 6,
   "metadata": {
    "collapsed": true
   },
   "outputs": [],
   "source": [
    "def solution(s):\n",
    "    bucket = [0 for i in range(128)]\n",
    "    for i in s:\n",
    "        bucket[ord(i)] += 1\n",
    "    res = ''\n",
    "    for i in range(128):\n",
    "        if bucket[i]!=0:\n",
    "            for j in range(bucket[i]):\n",
    "                for k in range(j, 128):\n",
    "                    if bucket[k]!=0:\n",
    "                        res = res+chr(k)\n",
    "                        bucket[k] -= 1\n",
    "    return res"
   ]
  },
  {
   "cell_type": "code",
   "execution_count": 47,
   "metadata": {},
   "outputs": [],
   "source": [
    "def solution(A):\n",
    "    dp = [[float('inf') for i in range(len(A))] for i in range(len(A))]\n",
    "    for i in range(len(A)):\n",
    "        dp[i][i] = 0\n",
    "    for i in range(1, len(A)):\n",
    "        for ii in dp:\n",
    "            print(ii)\n",
    "        print('------------')\n",
    "        for j in range(len(A)-i):\n",
    "            x = j\n",
    "            y = j+i\n",
    "            if A[x]>=(y-x):\n",
    "                dp[x][y]=1\n",
    "                continue\n",
    "            else:\n",
    "                for k in range(x, y+1):\n",
    "                    dp[x][y] = min(dp[x][y], dp[x][k]+dp[k][y])\n",
    "    return dp[0][len(A)-1]"
   ]
  },
  {
   "cell_type": "code",
   "execution_count": 53,
   "metadata": {},
   "outputs": [],
   "source": [
    "def solution(A):\n",
    "    n = len(A)\n",
    "    dpb = [float('inf') for i in range(n)]\n",
    "    dpb[0] = 0\n",
    "    for i in range(n-1):\n",
    "        if dpb[i+1] >dpb[i]+1:\n",
    "            dpb[i+1] = dpb[i]+1\n",
    "        for j in range(1, A[i]+1):\n",
    "            if i+j > n-1:\n",
    "                break\n",
    "            if dpb[i+j]>dpb[i]+1:\n",
    "                dpb[i+j] = dpb[i]+1\n",
    "    return dpb[n-1]"
   ]
  },
  {
   "cell_type": "code",
   "execution_count": 54,
   "metadata": {
    "scrolled": false
   },
   "outputs": [
    {
     "data": {
      "text/plain": [
       "0"
      ]
     },
     "execution_count": 54,
     "metadata": {},
     "output_type": "execute_result"
    }
   ],
   "source": [
    "A = [2] \n",
    "solution(A)"
   ]
  },
  {
   "cell_type": "code",
   "execution_count": 14,
   "metadata": {},
   "outputs": [
    {
     "data": {
      "text/plain": [
       "[[inf, inf], [inf, inf]]"
      ]
     },
     "execution_count": 14,
     "metadata": {},
     "output_type": "execute_result"
    }
   ],
   "source": [
    "dp"
   ]
  },
  {
   "cell_type": "code",
   "execution_count": 36,
   "metadata": {
    "collapsed": true
   },
   "outputs": [],
   "source": [
    " def multipy(aaa,bbb):\n",
    "\n",
    "        aaa.reverse()\n",
    "\n",
    "        bbb.reverse()\n",
    "        ccc = [0 for k in range(0,len(aaa)+len(bbb))]\n",
    "        for i in range(0,len(aaa)):\n",
    "            for j in range(0,len(bbb)):\n",
    "                ccc[i+j]+=aaa[i]*bbb[j]\n",
    "         \n",
    "        for m in range(0,len(ccc)):\n",
    "            if(ccc[m]>9):\n",
    "                ccc[m+1] += ccc[m]//10\n",
    "                ccc[m] = ccc[m] % 10\n",
    "       \n",
    "\n",
    "        ccc.reverse()\n",
    "        return ccc"
   ]
  },
  {
   "cell_type": "code",
   "execution_count": 38,
   "metadata": {},
   "outputs": [],
   "source": [
    "A = multipy([1,2,3,4],[4,3,2,1])"
   ]
  },
  {
   "cell_type": "code",
   "execution_count": 43,
   "metadata": {},
   "outputs": [
    {
     "name": "stdout",
     "output_type": "stream",
     "text": [
      "5332114"
     ]
    }
   ],
   "source": [
    "flag = 1\n",
    "for i in A:\n",
    "    if flag:\n",
    "        if i==0:\n",
    "            continue\n",
    "        else:\n",
    "            flag = 0\n",
    "    print(i, end='')"
   ]
  }
 ],
 "metadata": {
  "kernelspec": {
   "display_name": "Python 3",
   "language": "python",
   "name": "python3"
  },
  "language_info": {
   "codemirror_mode": {
    "name": "ipython",
    "version": 3
   },
   "file_extension": ".py",
   "mimetype": "text/x-python",
   "name": "python",
   "nbconvert_exporter": "python",
   "pygments_lexer": "ipython3",
   "version": "3.6.3"
  },
  "toc": {
   "nav_menu": {},
   "number_sections": true,
   "sideBar": true,
   "skip_h1_title": false,
   "title_cell": "Table of Contents",
   "title_sidebar": "Contents",
   "toc_cell": false,
   "toc_position": {},
   "toc_section_display": true,
   "toc_window_display": false
  }
 },
 "nbformat": 4,
 "nbformat_minor": 2
}
